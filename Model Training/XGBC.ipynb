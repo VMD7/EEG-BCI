{
 "cells": [
  {
   "cell_type": "markdown",
   "metadata": {
    "id": "iey60sT2VcAD"
   },
   "source": [
    "# **Extreme Gradient Boosting Classifier (XGBC)**"
   ]
  },
  {
   "cell_type": "code",
   "execution_count": null,
   "metadata": {
    "id": "GL4U82SxVhUn"
   },
   "outputs": [],
   "source": [
    "#Importing necessary libraries\n",
    "import numpy as np\n",
    "import pandas as pd\n",
    "import pickle\n",
    "from sklearn.model_selection import train_test_split\n",
    "from sklearn.preprocessing import StandardScaler\n",
    "from sklearn.decomposition import PCA\n",
    "from sklearn.pipeline import Pipeline\n",
    "from sklearn.pipeline import make_pipeline\n",
    "from sklearn.metrics import classification_report, confusion_matrix, accuracy_score\n",
    "import matplotlib.pyplot as plt\n",
    "import seaborn as sns\n",
    "import xgboost as xgb"
   ]
  },
  {
   "cell_type": "code",
   "execution_count": 4,
   "metadata": {
    "id": "ILAzRnskVjag"
   },
   "outputs": [],
   "source": [
    "#Taking the EDA data \n",
    "with open('/EDA.pickle', 'rb') as data:\n",
    "    df = pickle.load(data)"
   ]
  },
  {
   "cell_type": "code",
   "execution_count": 5,
   "metadata": {
    "colab": {
     "base_uri": "https://localhost:8080/",
     "height": 270
    },
    "id": "w54TPzJuXeR5",
    "outputId": "d3d4883c-7a16-4dd6-8416-a07c95a70d2d"
   },
   "outputs": [
    {
     "data": {
      "text/html": [
       "<div>\n",
       "<style scoped>\n",
       "    .dataframe tbody tr th:only-of-type {\n",
       "        vertical-align: middle;\n",
       "    }\n",
       "\n",
       "    .dataframe tbody tr th {\n",
       "        vertical-align: top;\n",
       "    }\n",
       "\n",
       "    .dataframe thead th {\n",
       "        text-align: right;\n",
       "    }\n",
       "</style>\n",
       "<table border=\"1\" class=\"dataframe\">\n",
       "  <thead>\n",
       "    <tr style=\"text-align: right;\">\n",
       "      <th></th>\n",
       "      <th># mean_0_a</th>\n",
       "      <th>mean_1_a</th>\n",
       "      <th>mean_2_a</th>\n",
       "      <th>mean_3_a</th>\n",
       "      <th>mean_4_a</th>\n",
       "      <th>mean_d_0_a</th>\n",
       "      <th>mean_d_1_a</th>\n",
       "      <th>mean_d_2_a</th>\n",
       "      <th>mean_d_3_a</th>\n",
       "      <th>mean_d_4_a</th>\n",
       "      <th>mean_d_0_a2</th>\n",
       "      <th>mean_d_1_a2</th>\n",
       "      <th>mean_d_2_a2</th>\n",
       "      <th>mean_d_3_a2</th>\n",
       "      <th>mean_d_4_a2</th>\n",
       "      <th>mean_d_5_a</th>\n",
       "      <th>mean_d_6_a</th>\n",
       "      <th>mean_d_7_a</th>\n",
       "      <th>mean_d_8_a</th>\n",
       "      <th>mean_d_9_a</th>\n",
       "      <th>mean_d_10_a</th>\n",
       "      <th>mean_d_11_a</th>\n",
       "      <th>mean_d_12_a</th>\n",
       "      <th>mean_d_13_a</th>\n",
       "      <th>mean_d_14_a</th>\n",
       "      <th>mean_d_15_a</th>\n",
       "      <th>mean_d_16_a</th>\n",
       "      <th>mean_d_17_a</th>\n",
       "      <th>mean_d_18_a</th>\n",
       "      <th>mean_d_19_a</th>\n",
       "      <th>mean_d_20_a</th>\n",
       "      <th>mean_d_21_a</th>\n",
       "      <th>mean_d_22_a</th>\n",
       "      <th>mean_d_23_a</th>\n",
       "      <th>mean_d_24_a</th>\n",
       "      <th>mean_d_25_a</th>\n",
       "      <th>mean_d_26_a</th>\n",
       "      <th>mean_d_27_a</th>\n",
       "      <th>mean_d_28_a</th>\n",
       "      <th>mean_d_29_a</th>\n",
       "      <th>...</th>\n",
       "      <th>fft_711_b</th>\n",
       "      <th>fft_712_b</th>\n",
       "      <th>fft_713_b</th>\n",
       "      <th>fft_714_b</th>\n",
       "      <th>fft_715_b</th>\n",
       "      <th>fft_716_b</th>\n",
       "      <th>fft_717_b</th>\n",
       "      <th>fft_718_b</th>\n",
       "      <th>fft_719_b</th>\n",
       "      <th>fft_720_b</th>\n",
       "      <th>fft_721_b</th>\n",
       "      <th>fft_722_b</th>\n",
       "      <th>fft_723_b</th>\n",
       "      <th>fft_724_b</th>\n",
       "      <th>fft_725_b</th>\n",
       "      <th>fft_726_b</th>\n",
       "      <th>fft_727_b</th>\n",
       "      <th>fft_728_b</th>\n",
       "      <th>fft_729_b</th>\n",
       "      <th>fft_730_b</th>\n",
       "      <th>fft_731_b</th>\n",
       "      <th>fft_732_b</th>\n",
       "      <th>fft_733_b</th>\n",
       "      <th>fft_734_b</th>\n",
       "      <th>fft_735_b</th>\n",
       "      <th>fft_736_b</th>\n",
       "      <th>fft_737_b</th>\n",
       "      <th>fft_738_b</th>\n",
       "      <th>fft_739_b</th>\n",
       "      <th>fft_740_b</th>\n",
       "      <th>fft_741_b</th>\n",
       "      <th>fft_742_b</th>\n",
       "      <th>fft_743_b</th>\n",
       "      <th>fft_744_b</th>\n",
       "      <th>fft_745_b</th>\n",
       "      <th>fft_746_b</th>\n",
       "      <th>fft_747_b</th>\n",
       "      <th>fft_748_b</th>\n",
       "      <th>fft_749_b</th>\n",
       "      <th>label</th>\n",
       "    </tr>\n",
       "  </thead>\n",
       "  <tbody>\n",
       "    <tr>\n",
       "      <th>0</th>\n",
       "      <td>4.62</td>\n",
       "      <td>30.3</td>\n",
       "      <td>-356.0</td>\n",
       "      <td>15.6</td>\n",
       "      <td>26.3</td>\n",
       "      <td>1.070</td>\n",
       "      <td>0.411</td>\n",
       "      <td>-15.70</td>\n",
       "      <td>2.06</td>\n",
       "      <td>3.15</td>\n",
       "      <td>2.15</td>\n",
       "      <td>29.5</td>\n",
       "      <td>-353.0</td>\n",
       "      <td>14.40</td>\n",
       "      <td>21.5</td>\n",
       "      <td>5.98</td>\n",
       "      <td>30.7</td>\n",
       "      <td>-343.0</td>\n",
       "      <td>14.7</td>\n",
       "      <td>27.9</td>\n",
       "      <td>3.17</td>\n",
       "      <td>32.2</td>\n",
       "      <td>-368.0</td>\n",
       "      <td>15.9</td>\n",
       "      <td>36.4</td>\n",
       "      <td>7.08</td>\n",
       "      <td>28.8</td>\n",
       "      <td>-359.0</td>\n",
       "      <td>17.3</td>\n",
       "      <td>19.6</td>\n",
       "      <td>-3.8300</td>\n",
       "      <td>-1.230</td>\n",
       "      <td>-10.80000</td>\n",
       "      <td>-0.363</td>\n",
       "      <td>-6.41</td>\n",
       "      <td>-1.03</td>\n",
       "      <td>-2.780</td>\n",
       "      <td>14.60</td>\n",
       "      <td>-1.540</td>\n",
       "      <td>-14.900000</td>\n",
       "      <td>...</td>\n",
       "      <td>30.90</td>\n",
       "      <td>-24.4</td>\n",
       "      <td>-24.4</td>\n",
       "      <td>30.90</td>\n",
       "      <td>-442.0</td>\n",
       "      <td>388.0</td>\n",
       "      <td>-197.0</td>\n",
       "      <td>-197.0</td>\n",
       "      <td>388.0</td>\n",
       "      <td>-564.0</td>\n",
       "      <td>500.00</td>\n",
       "      <td>-245.00</td>\n",
       "      <td>-245.00</td>\n",
       "      <td>500.00</td>\n",
       "      <td>-88.8</td>\n",
       "      <td>214.0</td>\n",
       "      <td>-88.8</td>\n",
       "      <td>-88.8</td>\n",
       "      <td>214.0</td>\n",
       "      <td>-606.0</td>\n",
       "      <td>509.000</td>\n",
       "      <td>-261.0</td>\n",
       "      <td>-261.0</td>\n",
       "      <td>509.000</td>\n",
       "      <td>-399.0</td>\n",
       "      <td>374.0</td>\n",
       "      <td>-185.00</td>\n",
       "      <td>-185.00</td>\n",
       "      <td>374.0</td>\n",
       "      <td>74.3</td>\n",
       "      <td>23.5</td>\n",
       "      <td>20.3</td>\n",
       "      <td>20.3</td>\n",
       "      <td>23.5</td>\n",
       "      <td>-215.0</td>\n",
       "      <td>280.00</td>\n",
       "      <td>-162.00</td>\n",
       "      <td>-162.00</td>\n",
       "      <td>280.00</td>\n",
       "      <td>NEGATIVE</td>\n",
       "    </tr>\n",
       "    <tr>\n",
       "      <th>1</th>\n",
       "      <td>28.80</td>\n",
       "      <td>33.1</td>\n",
       "      <td>32.0</td>\n",
       "      <td>25.8</td>\n",
       "      <td>22.8</td>\n",
       "      <td>6.550</td>\n",
       "      <td>1.680</td>\n",
       "      <td>2.88</td>\n",
       "      <td>3.83</td>\n",
       "      <td>-4.82</td>\n",
       "      <td>25.60</td>\n",
       "      <td>32.8</td>\n",
       "      <td>29.6</td>\n",
       "      <td>21.50</td>\n",
       "      <td>17.4</td>\n",
       "      <td>25.50</td>\n",
       "      <td>31.7</td>\n",
       "      <td>31.5</td>\n",
       "      <td>26.2</td>\n",
       "      <td>32.9</td>\n",
       "      <td>31.80</td>\n",
       "      <td>33.1</td>\n",
       "      <td>33.2</td>\n",
       "      <td>28.5</td>\n",
       "      <td>26.8</td>\n",
       "      <td>32.40</td>\n",
       "      <td>34.7</td>\n",
       "      <td>33.8</td>\n",
       "      <td>27.0</td>\n",
       "      <td>14.2</td>\n",
       "      <td>0.0342</td>\n",
       "      <td>1.100</td>\n",
       "      <td>-1.87000</td>\n",
       "      <td>-4.690</td>\n",
       "      <td>-15.40</td>\n",
       "      <td>-6.22</td>\n",
       "      <td>-0.328</td>\n",
       "      <td>-3.53</td>\n",
       "      <td>-6.980</td>\n",
       "      <td>-9.370000</td>\n",
       "      <td>...</td>\n",
       "      <td>-5.99</td>\n",
       "      <td>-19.1</td>\n",
       "      <td>-19.1</td>\n",
       "      <td>-5.99</td>\n",
       "      <td>163.0</td>\n",
       "      <td>-11.0</td>\n",
       "      <td>-10.7</td>\n",
       "      <td>-10.7</td>\n",
       "      <td>-11.0</td>\n",
       "      <td>117.0</td>\n",
       "      <td>-3.93</td>\n",
       "      <td>17.90</td>\n",
       "      <td>17.90</td>\n",
       "      <td>-3.93</td>\n",
       "      <td>112.0</td>\n",
       "      <td>-13.9</td>\n",
       "      <td>25.5</td>\n",
       "      <td>25.5</td>\n",
       "      <td>-13.9</td>\n",
       "      <td>225.0</td>\n",
       "      <td>-0.968</td>\n",
       "      <td>-27.7</td>\n",
       "      <td>-27.7</td>\n",
       "      <td>-0.968</td>\n",
       "      <td>97.4</td>\n",
       "      <td>-19.0</td>\n",
       "      <td>40.70</td>\n",
       "      <td>40.70</td>\n",
       "      <td>-19.0</td>\n",
       "      <td>130.0</td>\n",
       "      <td>-23.3</td>\n",
       "      <td>-21.8</td>\n",
       "      <td>-21.8</td>\n",
       "      <td>-23.3</td>\n",
       "      <td>182.0</td>\n",
       "      <td>2.57</td>\n",
       "      <td>-31.60</td>\n",
       "      <td>-31.60</td>\n",
       "      <td>2.57</td>\n",
       "      <td>NEUTRAL</td>\n",
       "    </tr>\n",
       "    <tr>\n",
       "      <th>2</th>\n",
       "      <td>8.90</td>\n",
       "      <td>29.4</td>\n",
       "      <td>-416.0</td>\n",
       "      <td>16.7</td>\n",
       "      <td>23.7</td>\n",
       "      <td>79.900</td>\n",
       "      <td>3.360</td>\n",
       "      <td>90.20</td>\n",
       "      <td>89.90</td>\n",
       "      <td>2.03</td>\n",
       "      <td>7.75</td>\n",
       "      <td>30.1</td>\n",
       "      <td>-441.0</td>\n",
       "      <td>9.89</td>\n",
       "      <td>25.3</td>\n",
       "      <td>-68.90</td>\n",
       "      <td>25.3</td>\n",
       "      <td>-481.0</td>\n",
       "      <td>-65.4</td>\n",
       "      <td>20.0</td>\n",
       "      <td>79.80</td>\n",
       "      <td>31.0</td>\n",
       "      <td>-408.0</td>\n",
       "      <td>91.9</td>\n",
       "      <td>29.5</td>\n",
       "      <td>18.80</td>\n",
       "      <td>31.1</td>\n",
       "      <td>-335.0</td>\n",
       "      <td>32.2</td>\n",
       "      <td>19.9</td>\n",
       "      <td>76.6000</td>\n",
       "      <td>4.850</td>\n",
       "      <td>39.90000</td>\n",
       "      <td>75.300</td>\n",
       "      <td>5.27</td>\n",
       "      <td>-72.00</td>\n",
       "      <td>-0.843</td>\n",
       "      <td>-33.00</td>\n",
       "      <td>-82.000</td>\n",
       "      <td>-4.200000</td>\n",
       "      <td>...</td>\n",
       "      <td>585.00</td>\n",
       "      <td>-285.0</td>\n",
       "      <td>-285.0</td>\n",
       "      <td>585.00</td>\n",
       "      <td>-94.3</td>\n",
       "      <td>183.0</td>\n",
       "      <td>-110.0</td>\n",
       "      <td>-110.0</td>\n",
       "      <td>183.0</td>\n",
       "      <td>-133.0</td>\n",
       "      <td>200.00</td>\n",
       "      <td>-72.00</td>\n",
       "      <td>-72.00</td>\n",
       "      <td>200.00</td>\n",
       "      <td>-356.0</td>\n",
       "      <td>295.0</td>\n",
       "      <td>-158.0</td>\n",
       "      <td>-158.0</td>\n",
       "      <td>295.0</td>\n",
       "      <td>-251.0</td>\n",
       "      <td>255.000</td>\n",
       "      <td>-95.7</td>\n",
       "      <td>-95.7</td>\n",
       "      <td>255.000</td>\n",
       "      <td>-177.0</td>\n",
       "      <td>159.0</td>\n",
       "      <td>-48.80</td>\n",
       "      <td>-48.80</td>\n",
       "      <td>159.0</td>\n",
       "      <td>-534.0</td>\n",
       "      <td>462.0</td>\n",
       "      <td>-233.0</td>\n",
       "      <td>-233.0</td>\n",
       "      <td>462.0</td>\n",
       "      <td>-267.0</td>\n",
       "      <td>281.00</td>\n",
       "      <td>-148.00</td>\n",
       "      <td>-148.00</td>\n",
       "      <td>281.00</td>\n",
       "      <td>POSITIVE</td>\n",
       "    </tr>\n",
       "    <tr>\n",
       "      <th>3</th>\n",
       "      <td>14.90</td>\n",
       "      <td>31.6</td>\n",
       "      <td>-143.0</td>\n",
       "      <td>19.8</td>\n",
       "      <td>24.3</td>\n",
       "      <td>-0.584</td>\n",
       "      <td>-0.284</td>\n",
       "      <td>8.82</td>\n",
       "      <td>2.30</td>\n",
       "      <td>-1.97</td>\n",
       "      <td>17.30</td>\n",
       "      <td>32.0</td>\n",
       "      <td>-148.0</td>\n",
       "      <td>20.40</td>\n",
       "      <td>22.8</td>\n",
       "      <td>13.20</td>\n",
       "      <td>31.5</td>\n",
       "      <td>-147.0</td>\n",
       "      <td>16.9</td>\n",
       "      <td>27.7</td>\n",
       "      <td>15.70</td>\n",
       "      <td>30.7</td>\n",
       "      <td>-142.0</td>\n",
       "      <td>20.7</td>\n",
       "      <td>22.8</td>\n",
       "      <td>13.60</td>\n",
       "      <td>32.2</td>\n",
       "      <td>-135.0</td>\n",
       "      <td>21.2</td>\n",
       "      <td>23.8</td>\n",
       "      <td>4.1500</td>\n",
       "      <td>0.556</td>\n",
       "      <td>-0.35400</td>\n",
       "      <td>3.460</td>\n",
       "      <td>-4.96</td>\n",
       "      <td>1.63</td>\n",
       "      <td>1.330</td>\n",
       "      <td>-5.83</td>\n",
       "      <td>-0.298</td>\n",
       "      <td>0.000777</td>\n",
       "      <td>...</td>\n",
       "      <td>249.00</td>\n",
       "      <td>-146.0</td>\n",
       "      <td>-146.0</td>\n",
       "      <td>249.00</td>\n",
       "      <td>359.0</td>\n",
       "      <td>-146.0</td>\n",
       "      <td>13.7</td>\n",
       "      <td>13.7</td>\n",
       "      <td>-146.0</td>\n",
       "      <td>119.0</td>\n",
       "      <td>-7.64</td>\n",
       "      <td>-7.17</td>\n",
       "      <td>-7.17</td>\n",
       "      <td>-7.64</td>\n",
       "      <td>-296.0</td>\n",
       "      <td>316.0</td>\n",
       "      <td>-218.0</td>\n",
       "      <td>-218.0</td>\n",
       "      <td>316.0</td>\n",
       "      <td>322.0</td>\n",
       "      <td>-113.000</td>\n",
       "      <td>38.4</td>\n",
       "      <td>38.4</td>\n",
       "      <td>-113.000</td>\n",
       "      <td>245.0</td>\n",
       "      <td>-61.9</td>\n",
       "      <td>-5.08</td>\n",
       "      <td>-5.08</td>\n",
       "      <td>-61.9</td>\n",
       "      <td>-183.0</td>\n",
       "      <td>299.0</td>\n",
       "      <td>-243.0</td>\n",
       "      <td>-243.0</td>\n",
       "      <td>299.0</td>\n",
       "      <td>132.0</td>\n",
       "      <td>-12.40</td>\n",
       "      <td>9.53</td>\n",
       "      <td>9.53</td>\n",
       "      <td>-12.40</td>\n",
       "      <td>POSITIVE</td>\n",
       "    </tr>\n",
       "    <tr>\n",
       "      <th>4</th>\n",
       "      <td>28.30</td>\n",
       "      <td>31.3</td>\n",
       "      <td>45.2</td>\n",
       "      <td>27.3</td>\n",
       "      <td>24.5</td>\n",
       "      <td>34.800</td>\n",
       "      <td>-5.790</td>\n",
       "      <td>3.06</td>\n",
       "      <td>41.40</td>\n",
       "      <td>5.52</td>\n",
       "      <td>26.10</td>\n",
       "      <td>34.3</td>\n",
       "      <td>43.7</td>\n",
       "      <td>23.70</td>\n",
       "      <td>20.6</td>\n",
       "      <td>-3.87</td>\n",
       "      <td>34.1</td>\n",
       "      <td>43.7</td>\n",
       "      <td>-10.0</td>\n",
       "      <td>22.9</td>\n",
       "      <td>59.40</td>\n",
       "      <td>26.7</td>\n",
       "      <td>60.3</td>\n",
       "      <td>64.7</td>\n",
       "      <td>26.9</td>\n",
       "      <td>32.30</td>\n",
       "      <td>30.1</td>\n",
       "      <td>33.6</td>\n",
       "      <td>31.6</td>\n",
       "      <td>27.7</td>\n",
       "      <td>30.0000</td>\n",
       "      <td>0.276</td>\n",
       "      <td>-0.00677</td>\n",
       "      <td>33.700</td>\n",
       "      <td>-2.36</td>\n",
       "      <td>-33.30</td>\n",
       "      <td>7.640</td>\n",
       "      <td>-16.60</td>\n",
       "      <td>-41.100</td>\n",
       "      <td>-6.290000</td>\n",
       "      <td>...</td>\n",
       "      <td>18.30</td>\n",
       "      <td>-11.9</td>\n",
       "      <td>-11.9</td>\n",
       "      <td>18.30</td>\n",
       "      <td>159.0</td>\n",
       "      <td>-18.2</td>\n",
       "      <td>-25.6</td>\n",
       "      <td>-25.6</td>\n",
       "      <td>-18.2</td>\n",
       "      <td>194.0</td>\n",
       "      <td>32.70</td>\n",
       "      <td>-54.50</td>\n",
       "      <td>-54.50</td>\n",
       "      <td>32.70</td>\n",
       "      <td>154.0</td>\n",
       "      <td>26.4</td>\n",
       "      <td>-56.4</td>\n",
       "      <td>-56.4</td>\n",
       "      <td>26.4</td>\n",
       "      <td>252.0</td>\n",
       "      <td>9.940</td>\n",
       "      <td>-37.4</td>\n",
       "      <td>-37.4</td>\n",
       "      <td>9.940</td>\n",
       "      <td>172.0</td>\n",
       "      <td>15.9</td>\n",
       "      <td>-7.25</td>\n",
       "      <td>-7.25</td>\n",
       "      <td>15.9</td>\n",
       "      <td>114.0</td>\n",
       "      <td>12.0</td>\n",
       "      <td>38.1</td>\n",
       "      <td>38.1</td>\n",
       "      <td>12.0</td>\n",
       "      <td>119.0</td>\n",
       "      <td>-17.60</td>\n",
       "      <td>23.90</td>\n",
       "      <td>23.90</td>\n",
       "      <td>-17.60</td>\n",
       "      <td>NEUTRAL</td>\n",
       "    </tr>\n",
       "  </tbody>\n",
       "</table>\n",
       "<p>5 rows × 2549 columns</p>\n",
       "</div>"
      ],
      "text/plain": [
       "   # mean_0_a  mean_1_a  mean_2_a  ...  fft_748_b  fft_749_b     label\n",
       "0        4.62      30.3    -356.0  ...    -162.00     280.00  NEGATIVE\n",
       "1       28.80      33.1      32.0  ...     -31.60       2.57   NEUTRAL\n",
       "2        8.90      29.4    -416.0  ...    -148.00     281.00  POSITIVE\n",
       "3       14.90      31.6    -143.0  ...       9.53     -12.40  POSITIVE\n",
       "4       28.30      31.3      45.2  ...      23.90     -17.60   NEUTRAL\n",
       "\n",
       "[5 rows x 2549 columns]"
      ]
     },
     "execution_count": 5,
     "metadata": {
      "tags": []
     },
     "output_type": "execute_result"
    }
   ],
   "source": [
    "#Initial values of dataset\n",
    "df.head()"
   ]
  },
  {
   "cell_type": "code",
   "execution_count": 6,
   "metadata": {
    "colab": {
     "base_uri": "https://localhost:8080/"
    },
    "id": "PXkf09HtXgM-",
    "outputId": "530ac447-b57d-4b9d-b9c5-169f327b79ed"
   },
   "outputs": [
    {
     "data": {
      "text/plain": [
       "(2132, 2549)"
      ]
     },
     "execution_count": 6,
     "metadata": {
      "tags": []
     },
     "output_type": "execute_result"
    }
   ],
   "source": [
    "#Shape of dataset\n",
    "df.shape"
   ]
  },
  {
   "cell_type": "code",
   "execution_count": 7,
   "metadata": {
    "id": "dg_u1V72Xgw8"
   },
   "outputs": [],
   "source": [
    "#Lable mapping\n",
    "label_mapping = {'NEGATIVE': 0, 'NEUTRAL': 1, 'POSITIVE': 2}"
   ]
  },
  {
   "cell_type": "code",
   "execution_count": 8,
   "metadata": {
    "id": "qGM5pSrqXgzy"
   },
   "outputs": [],
   "source": [
    "#Function for creating train test split\n",
    "def preprocess_inputs(df):\n",
    "    df = df.copy()\n",
    "    \n",
    "    df['label'] = df['label'].replace(label_mapping)\n",
    "    \n",
    "    y = df['label'].copy()\n",
    "    X = df.drop('label', axis=1).copy()\n",
    "    \n",
    "    X_train, X_test, y_train, y_test = train_test_split(X, y, train_size=0.7, random_state=123)\n",
    "    \n",
    "    return X_train, X_test, y_train, y_test"
   ]
  },
  {
   "cell_type": "code",
   "execution_count": 9,
   "metadata": {
    "id": "lttGdhkeXg2D"
   },
   "outputs": [],
   "source": [
    "X_train, X_test, y_train, y_test = preprocess_inputs(df)"
   ]
  },
  {
   "cell_type": "code",
   "execution_count": 10,
   "metadata": {
    "colab": {
     "base_uri": "https://localhost:8080/"
    },
    "id": "JWOlXZT_Xmaq",
    "outputId": "2b85fb3d-0abb-4f68-c60e-e571b68ed8b1"
   },
   "outputs": [
    {
     "name": "stdout",
     "output_type": "stream",
     "text": [
      "Shape of Training Dataset: (1492, 2548)\n",
      "Shape of Testing Dataset: (640, 2548)\n"
     ]
    }
   ],
   "source": [
    "print('Shape of Training Dataset:',X_train.shape)\n",
    "print('Shape of Testing Dataset:',X_test.shape)"
   ]
  },
  {
   "cell_type": "code",
   "execution_count": 16,
   "metadata": {
    "id": "Frizx-dmXmc0"
   },
   "outputs": [],
   "source": [
    "#Creating Pipeline for Random Forrest Classifer Classifier Algorithm\n",
    "pipeline_xgb = Pipeline([('xgboost', xgb.XGBClassifier())])"
   ]
  },
  {
   "cell_type": "code",
   "execution_count": 17,
   "metadata": {
    "colab": {
     "base_uri": "https://localhost:8080/"
    },
    "id": "JHe3_fGiXme1",
    "outputId": "70d9cc3c-4023-4ead-bdd5-8b42499a0203"
   },
   "outputs": [
    {
     "name": "stdout",
     "output_type": "stream",
     "text": [
      "CPU times: user 1min 3s, sys: 80.4 ms, total: 1min 3s\n",
      "Wall time: 1min 3s\n"
     ]
    }
   ],
   "source": [
    "%%time\n",
    "#Fitting the model \n",
    "best_model=pipeline_xgb.fit(X_train, y_train)"
   ]
  },
  {
   "cell_type": "code",
   "execution_count": 18,
   "metadata": {
    "id": "9l5RRJ82ZI8E"
   },
   "outputs": [],
   "source": [
    "#Prediction \n",
    "xgbc_pred = best_model.predict(X_test)"
   ]
  },
  {
   "cell_type": "code",
   "execution_count": 19,
   "metadata": {
    "colab": {
     "base_uri": "https://localhost:8080/"
    },
    "id": "9XYK9Z3iZPwJ",
    "outputId": "0fdf7000-fabf-4468-ada1-1a3446f63c66"
   },
   "outputs": [
    {
     "name": "stdout",
     "output_type": "stream",
     "text": [
      "The training set accuracy is: 1.0 \n"
     ]
    }
   ],
   "source": [
    "# Training accuracy\n",
    "print(\"The training set accuracy is: {} \".format(accuracy_score(y_train, best_model.predict(X_train))))"
   ]
  },
  {
   "cell_type": "code",
   "execution_count": 20,
   "metadata": {
    "colab": {
     "base_uri": "https://localhost:8080/"
    },
    "id": "oa-kW-DPZP4B",
    "outputId": "e80305b3-d9f4-439c-9c32-a9506d44a844"
   },
   "outputs": [
    {
     "name": "stdout",
     "output_type": "stream",
     "text": [
      "The test set accuracy is: 0.9875 %\n"
     ]
    }
   ],
   "source": [
    "# Test accuracy\n",
    "print(\"The test set accuracy is: {} %\".format(accuracy_score(y_test, best_model.predict(X_test))))"
   ]
  },
  {
   "cell_type": "code",
   "execution_count": 21,
   "metadata": {
    "colab": {
     "base_uri": "https://localhost:8080/"
    },
    "id": "a8CwLRvhZP6l",
    "outputId": "5504ea05-2462-4adc-8c4f-6baa5842510b"
   },
   "outputs": [
    {
     "name": "stdout",
     "output_type": "stream",
     "text": [
      "Classification report\n",
      "              precision    recall  f1-score   support\n",
      "\n",
      "           0       0.99      0.98      0.98       201\n",
      "           1       1.00      0.99      1.00       231\n",
      "           2       0.97      0.99      0.98       208\n",
      "\n",
      "    accuracy                           0.99       640\n",
      "   macro avg       0.99      0.99      0.99       640\n",
      "weighted avg       0.99      0.99      0.99       640\n",
      "\n"
     ]
    }
   ],
   "source": [
    "# Classification report\n",
    "print(\"Classification report\")\n",
    "print(classification_report(y_test,xgbc_pred))"
   ]
  },
  {
   "cell_type": "code",
   "execution_count": 22,
   "metadata": {
    "colab": {
     "base_uri": "https://localhost:8080/",
     "height": 421
    },
    "id": "b8RshGRLZVhT",
    "outputId": "01b04f16-d61c-48c9-d413-131cf5752c9e"
   },
   "outputs": [
    {
     "data": {
      "image/png": "[encoded data removed]",
      "text/plain": [
       "<Figure size 921.6x432 with 2 Axes>"
      ]
     },
     "metadata": {
      "needs_background": "light",
      "tags": []
     },
     "output_type": "display_data"
    },
    {
     "data": {
      "text/plain": [
       "<Figure size 432x288 with 0 Axes>"
      ]
     },
     "metadata": {
      "tags": []
     },
     "output_type": "display_data"
    }
   ],
   "source": [
    "#Plotting the confusion matrix\n",
    "conf_matrix = confusion_matrix(y_test, xgbc_pred)\n",
    "plt.figure(figsize=(12.8,6))\n",
    "sns.heatmap(conf_matrix, \n",
    "            annot=True,\n",
    "            cmap=\"Blues\")\n",
    "plt.ylabel('Predicted')\n",
    "plt.xlabel('Actual')\n",
    "plt.title('Confusion matrix')\n",
    "plt.show()\n",
    "plt.savefig(\"/ConfusionMatrix_XGBC.png\")"
   ]
  },
  {
   "cell_type": "code",
   "execution_count": 23,
   "metadata": {
    "id": "XfReLK1_ZVlX"
   },
   "outputs": [],
   "source": [
    "#Creating dictionary for storing the accuracy details\n",
    "d = {\n",
    "     'Model': 'Extreme Gradient Boosting Classifier',\n",
    "     'Training Set Accuracy': accuracy_score(y_train, best_model.predict(X_train)),\n",
    "     'Test Set Accuracy': accuracy_score(y_test, best_model.predict(X_test))\n",
    "}\n",
    "\n",
    "#Creating Data Frame \n",
    "df_models_xgbc = pd.DataFrame(d, index=[0])"
   ]
  },
  {
   "cell_type": "code",
   "execution_count": 24,
   "metadata": {
    "colab": {
     "base_uri": "https://localhost:8080/",
     "height": 80
    },
    "id": "NP0-R8K-ZVoZ",
    "outputId": "789874d2-3dee-4e18-d63c-7f50fcd68376"
   },
   "outputs": [
    {
     "data": {
      "text/html": [
       "<div>\n",
       "<style scoped>\n",
       "    .dataframe tbody tr th:only-of-type {\n",
       "        vertical-align: middle;\n",
       "    }\n",
       "\n",
       "    .dataframe tbody tr th {\n",
       "        vertical-align: top;\n",
       "    }\n",
       "\n",
       "    .dataframe thead th {\n",
       "        text-align: right;\n",
       "    }\n",
       "</style>\n",
       "<table border=\"1\" class=\"dataframe\">\n",
       "  <thead>\n",
       "    <tr style=\"text-align: right;\">\n",
       "      <th></th>\n",
       "      <th>Model</th>\n",
       "      <th>Training Set Accuracy</th>\n",
       "      <th>Test Set Accuracy</th>\n",
       "    </tr>\n",
       "  </thead>\n",
       "  <tbody>\n",
       "    <tr>\n",
       "      <th>0</th>\n",
       "      <td>Extreme Gradient Boosting Classifier</td>\n",
       "      <td>1.0</td>\n",
       "      <td>0.9875</td>\n",
       "    </tr>\n",
       "  </tbody>\n",
       "</table>\n",
       "</div>"
      ],
      "text/plain": [
       "                                  Model  ...  Test Set Accuracy\n",
       "0  Extreme Gradient Boosting Classifier  ...             0.9875\n",
       "\n",
       "[1 rows x 3 columns]"
      ]
     },
     "execution_count": 24,
     "metadata": {
      "tags": []
     },
     "output_type": "execute_result"
    }
   ],
   "source": [
    "df_models_xgbc"
   ]
  },
  {
   "cell_type": "code",
   "execution_count": 25,
   "metadata": {
    "id": "4eCmq-QAZVqj"
   },
   "outputs": [],
   "source": [
    "#Creating pickle files for further use\n",
    "with open('/best_xgbc.pickle', 'wb') as output:\n",
    "    pickle.dump(best_model, output)\n",
    "    \n",
    "with open('/df_models_xgbc.pickle', 'wb') as output:\n",
    "    pickle.dump(df_models_xgbc, output)"
   ]
  },
  {
   "cell_type": "code",
   "execution_count": null,
   "metadata": {
    "id": "ushYmNAvaVXD"
   },
   "outputs": [],
   "source": []
  }
 ],
 "metadata": {
  "colab": {
   "name": "XGBc.ipynb",
   "provenance": []
  },
  "kernelspec": {
   "display_name": "Python 3",
   "language": "python",
   "name": "python3"
  },
  "language_info": {
   "codemirror_mode": {
    "name": "ipython",
    "version": 3
   },
   "file_extension": ".py",
   "mimetype": "text/x-python",
   "name": "python",
   "nbconvert_exporter": "python",
   "pygments_lexer": "ipython3",
   "version": "3.8.5"
  }
 },
 "nbformat": 4,
 "nbformat_minor": 1
}
